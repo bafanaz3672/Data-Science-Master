{
 "cells": [
  {
   "cell_type": "markdown",
   "metadata": {},
   "source": [
    "Q1, Create a vehicle class with an init method having instance variables as name_of_vehicle, max_speed and average_of_vehicle."
   ]
  },
  {
   "cell_type": "code",
   "execution_count": 1,
   "metadata": {},
   "outputs": [
    {
     "name": "stdout",
     "output_type": "stream",
     "text": [
      "BMW 240 140\n"
     ]
    }
   ],
   "source": [
    "class Vehicle:\n",
    "    def __init__(self,name_of_vehicle,max_speed, average_of_vehicle):\n",
    "        self.name_of_vehicle = name_of_vehicle\n",
    "        self.max_speed = max_speed\n",
    "        self.average_of_vehicle=average_of_vehicle\n",
    "\n",
    "modelX = Vehicle(\"BMW\",240, 140)\n",
    "print(modelX.name_of_vehicle,modelX.max_speed, modelX.average_of_vehicle)"
   ]
  },
  {
   "cell_type": "markdown",
   "metadata": {},
   "source": [
    "Q2. Create a child class car from the vehicle class created in Que 1, which will inherit the vehicle class.\n",
    "Create a method named seating_capacity which takes capacity as an argument and returns the name of\n",
    "the vehicle and its seating capacity."
   ]
  },
  {
   "cell_type": "code",
   "execution_count": 2,
   "metadata": {},
   "outputs": [
    {
     "name": "stdout",
     "output_type": "stream",
     "text": [
      "The seating capacity of a BMW is 5 passengers\n"
     ]
    }
   ],
   "source": [
    "class Vehicle:\n",
    "    def __init__(self,name_of_vehicle,max_speed, average_of_vehicle):\n",
    "        self.name_of_vehicle = name_of_vehicle\n",
    "        self.max_speed = max_speed\n",
    "        self.average_of_vehicle=average_of_vehicle\n",
    "\n",
    "    def seating_capacity(self, capacity):\n",
    "        return f\"The seating capacity of a { self.name_of_vehicle} is {capacity} passengers\"\n",
    "\n",
    "class Car(Vehicle):\n",
    "    # assign default value to capacity\n",
    "    def seating_capacity(self, capacity=5):\n",
    "        return super().seating_capacity(capacity=5)\n",
    "\n",
    "Car_Vehicle =Car(\"BMW\", 320, 180)\n",
    "print(Car_Vehicle.seating_capacity())"
   ]
  },
  {
   "cell_type": "markdown",
   "metadata": {},
   "source": [
    "Q3. What is multiple inheritance? Write a python code to demonstrate multiple inheritance."
   ]
  },
  {
   "cell_type": "markdown",
   "metadata": {},
   "source": [
    "Answer: Multiple Inheritance When a class is derived from more than one base class it is called multiple Inheritance. The derived class inherits all the features of the base case."
   ]
  },
  {
   "cell_type": "code",
   "execution_count": 1,
   "metadata": {},
   "outputs": [
    {
     "name": "stdout",
     "output_type": "stream",
     "text": [
      "In Class1\n"
     ]
    }
   ],
   "source": [
    "class Class1:\n",
    "    def test_class1(self):\n",
    "        print(\"In Class1\")\n",
    "        \n",
    "class Class2(Class1):\n",
    "    def test_class2(self):\n",
    "        print(\"In Class2\")\n",
    "\n",
    "class Class3(Class1):\n",
    "    def test_class3(self):\n",
    "        print(\"In Class3\")\n",
    "\n",
    "class Class4(Class2, Class3):\n",
    "    pass\n",
    "\n",
    "obj_class4 = Class4()\n",
    "obj_class4.test_class1()"
   ]
  },
  {
   "cell_type": "markdown",
   "metadata": {},
   "source": [
    "Q4. What are getter and setter in python? Create a class and create a getter and a setter method in this\n",
    "class."
   ]
  },
  {
   "cell_type": "markdown",
   "metadata": {},
   "source": [
    "Answer: Getter: A method that allows you to access an attribute in a given class\n",
    "        Setter: A method that allows you to set or mutate the value of an attribute in a class"
   ]
  },
  {
   "cell_type": "code",
   "execution_count": 3,
   "metadata": {},
   "outputs": [
    {
     "name": "stdout",
     "output_type": "stream",
     "text": [
      "21\n",
      "21\n"
     ]
    }
   ],
   "source": [
    "# Python program showing a use\n",
    "# of get() and set() method in\n",
    "# normal function\n",
    "\n",
    "class Test:\n",
    "    def __init__(self, age = 0):\n",
    "        self._age = age\n",
    "        \n",
    "    # getter method\n",
    "    def get_age(self):\n",
    "        return self._age\n",
    "\n",
    "        # setter method\n",
    "    def set_age(self, x):\n",
    "        self._age = x\n",
    "\n",
    "getset =Test()\n",
    "\n",
    "# setting the age using setter\n",
    "getset.set_age(21)\n",
    "\n",
    "# retrieving age using getter\n",
    "print(getset.get_age())\n",
    "\n",
    "print(getset._age)\n"
   ]
  },
  {
   "cell_type": "markdown",
   "metadata": {},
   "source": [
    "Q5.What is method overriding in python? Write a python code to demonstrate method overriding."
   ]
  },
  {
   "cell_type": "markdown",
   "metadata": {},
   "source": [
    "Answer:\n",
    "The method overriding in Python means creating two methods with the same name but differ in the programming logic. The concept of Method overriding allows us to change or override the Parent Class function in the Child Class."
   ]
  },
  {
   "cell_type": "code",
   "execution_count": 4,
   "metadata": {},
   "outputs": [
    {
     "name": "stdout",
     "output_type": "stream",
     "text": [
      "Inside Parent\n",
      "Inside Child\n"
     ]
    }
   ],
   "source": [
    "# Python program to demonstrate\n",
    "# method overriding\n",
    "\n",
    "\n",
    "# Defining parent class\n",
    "class Parent():\n",
    "\n",
    "    # Constructor\n",
    "    def __init__(self):\n",
    "        self.value = \"Inside Parent\"\n",
    "\n",
    "    # Parent's show method\n",
    "    def show(self):\n",
    "        print(self.value)\n",
    "\n",
    "# Defining child class\n",
    "class Child(Parent):\n",
    "\n",
    "    # Constructor\n",
    "    def __init__(self):\n",
    "        self.value = \"Inside Child\"\n",
    "\n",
    "    # Child's show method\n",
    "    def show(self):\n",
    "        print(self.value)\n",
    "\n",
    "\n",
    "# Driver's code\n",
    "obj1 = Parent()\n",
    "obj2 = Child()\n",
    "\n",
    "obj1.show()\n",
    "obj2.show()\n"
   ]
  },
  {
   "cell_type": "code",
   "execution_count": null,
   "metadata": {},
   "outputs": [],
   "source": []
  }
 ],
 "metadata": {
  "kernelspec": {
   "display_name": "Python 3",
   "language": "python",
   "name": "python3"
  },
  "language_info": {
   "codemirror_mode": {
    "name": "ipython",
    "version": 3
   },
   "file_extension": ".py",
   "mimetype": "text/x-python",
   "name": "python",
   "nbconvert_exporter": "python",
   "pygments_lexer": "ipython3",
   "version": "3.7.3"
  }
 },
 "nbformat": 4,
 "nbformat_minor": 2
}
