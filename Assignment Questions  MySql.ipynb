{
 "cells": [
  {
   "cell_type": "markdown",
   "metadata": {},
   "source": [
    "Q1. What is a database? Differentiate between SQL and NoSQL databases."
   ]
  },
  {
   "cell_type": "markdown",
   "metadata": {},
   "source": [
    "Ans:\n",
    "    A database is a tool for collecting and organizing information\n",
    "   \n",
    "     SQL databases are primarily are Relational Databases (RDBMS)\n",
    "       \n",
    "        These databases have fixed or static or predefined schema\n",
    "        Vertically Scalable\n",
    "    \n",
    "    NoSQL database are primarily are non-relational or distributed database\n",
    "       They have dynamic schema\n",
    "        Horizontally Scalable"
   ]
  },
  {
   "cell_type": "markdown",
   "metadata": {},
   "source": [
    "Q2. What is DDL? Explain why CREATE, DROP, ALTER, and TRUNCATE are used with an example."
   ]
  },
  {
   "cell_type": "markdown",
   "metadata": {},
   "source": [
    "Data Manipulation Language (DML) commands in SQL deals with manipulation of data records stored within the database tables.\n",
    " \n",
    " The CREATE DATABASE command is used is to create a new SQL database or SQL Table. \n",
    "     \n",
    "    DROP: It is used to delete both the structure and record stored in the table.\n",
    "    \n",
    "    ALTER: It is used to alter the structure of the database. This change could be either to modify \n",
    "           the characteristics of an existing attribute or probably to add a new attribute.\n",
    "        \n",
    "    TRUNCATE: It is used to delete all the rows from the table and free the space containing the table.\n",
    "     \n",
    "     \n",
    "     "
   ]
  },
  {
   "cell_type": "markdown",
   "metadata": {},
   "source": [
    "CREATE TABLE Persons (\n",
    "    PersonID int,\n",
    "    LastName varchar(255),\n",
    "    FirstName varchar(255),\n",
    "    Address varchar(255),\n",
    "    City varchar(255)\n",
    ");\n",
    "\n",
    "DROP TABLE Persons;\n",
    "\n",
    "ALTER TABLE Persons\n",
    "ADD Email varchar(255);\n",
    "\n",
    "TRUNCATE TABLE Persons;"
   ]
  },
  {
   "cell_type": "markdown",
   "metadata": {},
   "source": [
    "Q3. What is DML? Explain INSERT, UPDATE, and DELETE with an example."
   ]
  },
  {
   "cell_type": "markdown",
   "metadata": {},
   "source": [
    "Data Manipulation Language- It is the SQL commands that deals with the manipulation of data present in the database."
   ]
  },
  {
   "cell_type": "markdown",
   "metadata": {},
   "source": [
    "INSERT : It is used to insert data into a table.\n",
    "    \n",
    "    INSERT INTO Customers (CustomerName, ContactName, Address, City, PostalCode, Country)\n",
    "VALUES ('Cardinal', 'Bafana B. Zwyne', 'Skagen 21', 'Stavanger', '4006', 'South Africa');\n",
    "\n",
    "UPDATE: It is used to update existing data within a table.\n",
    "   \n",
    "    UPDATE Customers\n",
    "    SET ContactName='Juan'\n",
    "    WHERE Country='South Africa';\n",
    "    \n",
    "DELETE : It is used to delete records from a database table.\n",
    "    DELETE FROM Customers WHERE CustomerName='Cardinal';"
   ]
  },
  {
   "cell_type": "markdown",
   "metadata": {},
   "source": [
    "Q4. What is DQL? Explain SELECT with an example."
   ]
  },
  {
   "cell_type": "markdown",
   "metadata": {},
   "source": [
    "Data Query Language - it is a component of SQL statement that allows getting data from the database and imposing order upon it\n",
    "   \n",
    "    SELECT CustomerName, City FROM Customers;"
   ]
  },
  {
   "cell_type": "markdown",
   "metadata": {},
   "source": [
    "Q5. Explain Primary Key and Foreign Key."
   ]
  },
  {
   "cell_type": "markdown",
   "metadata": {},
   "source": [
    "Q5.Explain Primary Key and Foreign Key."
   ]
  },
  {
   "cell_type": "markdown",
   "metadata": {},
   "source": [
    "Ans: Primary Key uniquely identifies each record in a table    \n",
    "     Foreign Key is a field in one table, that refers to the Primary Key in another table"
   ]
  },
  {
   "cell_type": "markdown",
   "metadata": {},
   "source": [
    "Q6. Write a python code to connect MySQL to python. Explain the cursor() and execute() method."
   ]
  },
  {
   "cell_type": "markdown",
   "metadata": {},
   "source": [
    "import mysql.connector\n",
    "\n",
    "mydb = mysql.connector.connect(\n",
    "  \n",
    "  host=\"localhost\",\n",
    "  user=\" \",\n",
    "  password=\"\"\n",
    ")"
   ]
  },
  {
   "cell_type": "markdown",
   "metadata": {},
   "source": [
    "Q6. Write a python code to connect MySQL to python. Explain the cursor() and execute() method."
   ]
  },
  {
   "cell_type": "markdown",
   "metadata": {},
   "source": [
    "cursor() of the mysql-connector Python module is used to execute statements to communicate with the MySQL database\n",
    "\n",
    "execute() -This method accepts a MySQL query as a parameter and executes the given query."
   ]
  },
  {
   "cell_type": "markdown",
   "metadata": {},
   "source": [
    "Q7. Give the order of execution of SQL clauses in an SQL query."
   ]
  },
  {
   "cell_type": "markdown",
   "metadata": {},
   "source": [
    "SELECT, FROM, WHERE, GROUP BY, HAVING, and ORDER BY"
   ]
  },
  {
   "cell_type": "code",
   "execution_count": null,
   "metadata": {},
   "outputs": [],
   "source": []
  }
 ],
 "metadata": {
  "kernelspec": {
   "display_name": "Python 3",
   "language": "python",
   "name": "python3"
  },
  "language_info": {
   "codemirror_mode": {
    "name": "ipython",
    "version": 3
   },
   "file_extension": ".py",
   "mimetype": "text/x-python",
   "name": "python",
   "nbconvert_exporter": "python",
   "pygments_lexer": "ipython3",
   "version": "3.7.3"
  }
 },
 "nbformat": 4,
 "nbformat_minor": 2
}
