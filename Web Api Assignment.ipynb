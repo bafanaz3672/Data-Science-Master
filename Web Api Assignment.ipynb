{
 "cells": [
  {
   "cell_type": "markdown",
   "metadata": {},
   "source": [
    "Q1. What is an API? Give an example, where an API is used in real life."
   ]
  },
  {
   "cell_type": "markdown",
   "metadata": {},
   "source": [
    "An application programming interface (API) is software that acts as an intermediary between applications to help them communicate with each other using HTTP requests\n",
    "\n",
    "Uses:Pay with Google Pay,Analytics. Google Analytics is a part of the Google Cloud API Platform"
   ]
  },
  {
   "cell_type": "markdown",
   "metadata": {},
   "source": [
    "Q2. Give advantages and disadvantages of using API."
   ]
  },
  {
   "cell_type": "markdown",
   "metadata": {},
   "source": [
    "Advantages: APIs allow developers to leverage the expertise of other applications.\n",
    "            \n",
    "            When an organization develops an application, \n",
    "            they no longer need to reinvent the wheel when it comes to things like authentication, communication, \n",
    "            payment processing,and maps.\n",
    "            \n",
    "Disadvantages: Complexity,Security risks,Lack of control "
   ]
  },
  {
   "cell_type": "markdown",
   "metadata": {},
   "source": [
    "Q3. What is a Web API? Differentiate between API and Web API."
   ]
  },
  {
   "cell_type": "markdown",
   "metadata": {},
   "source": [
    "A Web API is an application programming interface for the Web. A Browser API can extend the functionality of a web browser.\n",
    "\n",
    "An API is a interface that allows two applications to interact with each other without any user intervention"
   ]
  },
  {
   "cell_type": "code",
   "execution_count": null,
   "metadata": {},
   "outputs": [],
   "source": [
    "Q4. Explain REST and SOAP Architecture.Mention shortcomings of SOAP."
   ]
  },
  {
   "cell_type": "markdown",
   "metadata": {},
   "source": [
    "SOAP allows applications running on different operating systems to communicate using different technologies and programming languages.\n",
    "\n",
    "REST APIs receive requests for a resource and return all relevant information about the resource in a format that clients can easily interpret.\n",
    "\n",
    "Can be slower than competing architectural styles like REST"
   ]
  },
  {
   "cell_type": "markdown",
   "metadata": {},
   "source": [
    "Q5. Differentiate between REST and SOAP."
   ]
  },
  {
   "cell_type": "markdown",
   "metadata": {},
   "source": [
    "SOAP is a protocol, whereas REST is an architectural style"
   ]
  },
  {
   "cell_type": "code",
   "execution_count": null,
   "metadata": {},
   "outputs": [],
   "source": []
  }
 ],
 "metadata": {
  "kernelspec": {
   "display_name": "Python 3",
   "language": "python",
   "name": "python3"
  },
  "language_info": {
   "codemirror_mode": {
    "name": "ipython",
    "version": 3
   },
   "file_extension": ".py",
   "mimetype": "text/x-python",
   "name": "python",
   "nbconvert_exporter": "python",
   "pygments_lexer": "ipython3",
   "version": "3.7.3"
  }
 },
 "nbformat": 4,
 "nbformat_minor": 2
}
