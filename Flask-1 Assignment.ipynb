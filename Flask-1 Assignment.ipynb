{
 "cells": [
  {
   "cell_type": "markdown",
   "metadata": {},
   "source": [
    "Q1. What is Flask Framework? What are the advantages of Flask Framework?"
   ]
  },
  {
   "cell_type": "markdown",
   "metadata": {},
   "source": [
    "Flask is a web application framework written in Python.\n",
    "\n",
    "Advantages:Easy to understand development\n",
    "    \n",
    "           It is very flexible and easy.\n",
    "           \n",
    "            Scalable\n",
    "    "
   ]
  },
  {
   "cell_type": "markdown",
   "metadata": {},
   "source": [
    "Q2. Create a simple Flask application to display ‘Hello World!!’. Attach the screenshot of the output in\n",
    "Jupyter Notebook."
   ]
  },
  {
   "cell_type": "markdown",
   "metadata": {},
   "source": [
    "https://green-fireman-piwjs.pwskills.app:5000/\n",
    "     \n",
    "    Hello World!!!    "
   ]
  },
  {
   "cell_type": "markdown",
   "metadata": {},
   "source": [
    "Q3. What is App routing in Flask? Why do we use app routes?"
   ]
  },
  {
   "cell_type": "markdown",
   "metadata": {},
   "source": [
    "App Routing means mapping the URLs to a specific function that will handle the logic for that URL"
   ]
  },
  {
   "cell_type": "markdown",
   "metadata": {},
   "source": [
    "Q4. Create a “/welcome” route to display the welcome message “Welcome to ABC Corporation” and a “/”\n",
    "route to show the following details:\n",
    "Company Name: ABC Corporation\n",
    "Location: India\n",
    "Contact Detail: 999-999-9999"
   ]
  },
  {
   "cell_type": "markdown",
   "metadata": {},
   "source": [
    "https://green-fireman-piwjs.pwskills.app:5000/welcome\n",
    "        \n",
    "        Welcome to ABC Corporation"
   ]
  },
  {
   "cell_type": "markdown",
   "metadata": {},
   "source": [
    "Q5. What function is used in Flask for URL Building? Write a Python code to demonstrate the working of the\n",
    "url_for() function."
   ]
  },
  {
   "cell_type": "markdown",
   "metadata": {},
   "source": [
    "The url_for() function is used to build a URL to the specific function dynamically.\n",
    "\n",
    "https://green-fireman-piwjs.pwskills.app:5000/input_url?x=bafana\n",
    "        \n",
    "        this is my input from url bafana"
   ]
  },
  {
   "cell_type": "code",
   "execution_count": null,
   "metadata": {},
   "outputs": [],
   "source": []
  }
 ],
 "metadata": {
  "kernelspec": {
   "display_name": "Python 3",
   "language": "python",
   "name": "python3"
  },
  "language_info": {
   "codemirror_mode": {
    "name": "ipython",
    "version": 3
   },
   "file_extension": ".py",
   "mimetype": "text/x-python",
   "name": "python",
   "nbconvert_exporter": "python",
   "pygments_lexer": "ipython3",
   "version": "3.7.3"
  }
 },
 "nbformat": 4,
 "nbformat_minor": 2
}
